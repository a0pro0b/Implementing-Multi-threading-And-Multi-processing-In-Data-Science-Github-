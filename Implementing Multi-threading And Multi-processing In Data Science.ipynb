{
  "nbformat": 4,
  "nbformat_minor": 0,
  "metadata": {
    "colab": {
      "name": "J-Component Implementation.ipynb",
      "provenance": [],
      "authorship_tag": "ABX9TyMjHQf382d/JgSBJkZuN6qH",
      "include_colab_link": true
    },
    "kernelspec": {
      "name": "python3",
      "display_name": "Python 3"
    },
    "language_info": {
      "name": "python"
    }
  },
  "cells": [
    {
      "cell_type": "markdown",
      "metadata": {
        "id": "view-in-github",
        "colab_type": "text"
      },
      "source": [
        "<a href=\"https://colab.research.google.com/github/a0pro0b/Implementing-Multi-threading-And-Multi-processing-In-Data-Science-Github-/blob/main/Implementing%20Multi-threading%20And%20Multi-processing%20In%20Data%20Science.ipynb\" target=\"_parent\"><img src=\"https://colab.research.google.com/assets/colab-badge.svg\" alt=\"Open In Colab\"/></a>"
      ]
    },
    {
      "cell_type": "code",
      "execution_count": null,
      "metadata": {
        "id": "HWUPtNGa4a3m"
      },
      "outputs": [],
      "source": [
        "import os\n",
        "import time\n",
        "import cv2\n",
        "import dlib\n",
        "import glob\n",
        "import random\n",
        "import nltk\n",
        "import numpy as np\n",
        "from functools import reduce\n",
        "import concurrent.futures\n",
        "import xml.etree.ElementTree as ET\n",
        "from nltk.stem import PorterStemmer, LancasterStemmer\n",
        "from nltk.tokenize import sent_tokenize, word_tokenize"
      ]
    },
    {
      "cell_type": "markdown",
      "source": [
        "Simple Implementaion of Multi Threading"
      ],
      "metadata": {
        "id": "8c4KtfTF6Ivs"
      }
    },
    {
      "cell_type": "code",
      "source": [
        "def sleep_fun(seconds):\n",
        "    print(\"Sleeping for {} second(s)\".format(seconds))\n",
        "    time.sleep(seconds)"
      ],
      "metadata": {
        "id": "8VIXU0Jk4fVl"
      },
      "execution_count": null,
      "outputs": []
    },
    {
      "cell_type": "code",
      "source": [
        "sleep_times = [1,2,3]\n",
        "start = time.time()\n",
        "for i in sleep_times:\n",
        "    sleep_fun(i)\n",
        "end = time.time()\n",
        "print(\"Normal computation: {} secs \".format(end - start))"
      ],
      "metadata": {
        "colab": {
          "base_uri": "https://localhost:8080/"
        },
        "id": "yTZAIhoM4fby",
        "outputId": "68aca4d7-a8c1-4f85-df81-a5cdaf5c1f41"
      },
      "execution_count": null,
      "outputs": [
        {
          "output_type": "stream",
          "name": "stdout",
          "text": [
            "Sleeping for 1 second(s)\n",
            "Sleeping for 2 second(s)\n",
            "Sleeping for 3 second(s)\n",
            "Normal computation: 6.004661798477173 secs \n"
          ]
        }
      ]
    },
    {
      "cell_type": "code",
      "source": [
        "start = time.time()\n",
        "with concurrent.futures.ThreadPoolExecutor() as executor:\n",
        "    executor.map(sleep_fun, sleep_times) \n",
        "end = time.time()\n",
        "print(\"Multithreading computation: {} secs \".format(end - start))"
      ],
      "metadata": {
        "colab": {
          "base_uri": "https://localhost:8080/"
        },
        "id": "84Aoy1UO4mLI",
        "outputId": "326bde55-e212-4c1e-d612-9efd86994185"
      },
      "execution_count": null,
      "outputs": [
        {
          "output_type": "stream",
          "name": "stdout",
          "text": [
            "Sleeping for 1 second(s)\n",
            "Sleeping for 2 second(s)Sleeping for 3 second(s)\n",
            "\n",
            "Multithreading computation: 3.0062460899353027 secs \n"
          ]
        }
      ]
    },
    {
      "cell_type": "markdown",
      "source": [
        "Simple Implementation of Multi Procceessing"
      ],
      "metadata": {
        "id": "7lLOoUWz6PVO"
      }
    },
    {
      "cell_type": "code",
      "source": [
        "def calculation(number):\n",
        "    random_list = random.sample(range(10000000), number)\n",
        "    return reduce(lambda x, y: x*y, random_list)"
      ],
      "metadata": {
        "id": "2zK22MlK6SzU"
      },
      "execution_count": null,
      "outputs": []
    },
    {
      "cell_type": "code",
      "source": [
        "numbers = [200000, 200000, 200000]\n",
        "start = time.time()\n",
        "for i in numbers:\n",
        "    result = calculation(i)\n",
        "end = time.time()\n",
        "print(\"Normal computation: {} sec\".format(end - start))"
      ],
      "metadata": {
        "colab": {
          "base_uri": "https://localhost:8080/"
        },
        "id": "tI3A2_LL6ekr",
        "outputId": "c37658c1-51b9-4153-c50d-678a816aa68b"
      },
      "execution_count": null,
      "outputs": [
        {
          "output_type": "stream",
          "name": "stdout",
          "text": [
            "Normal computation: 64.69023323059082 sec\n"
          ]
        }
      ]
    },
    {
      "cell_type": "code",
      "source": [
        "start = time.time()\n",
        "with concurrent.futures.ProcessPoolExecutor() as executor:\n",
        "    executor.map(calculation, numbers) \n",
        "end = time.time()\n",
        "print(\"MultiProcessing computation: {} secs \".format(end - start))"
      ],
      "metadata": {
        "colab": {
          "base_uri": "https://localhost:8080/"
        },
        "id": "krBJKCKp6S8x",
        "outputId": "12a31abf-40fa-481b-95ad-0b7cf808b735"
      },
      "execution_count": null,
      "outputs": [
        {
          "output_type": "stream",
          "name": "stdout",
          "text": [
            "MultiProcessing computation: 57.81829500198364 secs \n"
          ]
        }
      ]
    },
    {
      "cell_type": "markdown",
      "source": [
        "Implementing Computer Vision using Multithreading & Multiprocessing"
      ],
      "metadata": {
        "id": "tqlt9_dv-eOl"
      }
    },
    {
      "cell_type": "code",
      "source": [
        "def face_detection(image_path):\n",
        "    image_name = os.path.basename(image_path)\n",
        "    image = cv2.imread(image_path)\n",
        "    face_rect = image.copy()\n",
        "    faces = face_detector(image)\n",
        "    if len(faces) !=0:\n",
        "        for face in faces:\n",
        "            x1 = face.left()\n",
        "            y1 = face.top()\n",
        "            x2 = face.right()\n",
        "            y2 = face.bottom()\n",
        "            face_rect = cv2.rectangle(face_rect, (x1,y1), (x2,y2), (255,0,0), 5)\n",
        "        cv2.imwrite(\"./Datasets/face_processed/\" + image_name, face_rect)"
      ],
      "metadata": {
        "id": "pXX9hlf16TLA"
      },
      "execution_count": null,
      "outputs": []
    },
    {
      "cell_type": "code",
      "source": [
        "face_detector = dlib.get_frontal_face_detector()\n",
        "images = list(glob.iglob(\"./Datasets/face_raw/*.jpg\"))\n",
        "images.sort()\n",
        "start = time.time()\n",
        "for i in images:\n",
        "    face_detection(i)\n",
        "end = time.time()\n",
        "print(\"Normal computation: {} seconds\".format(end - start))"
      ],
      "metadata": {
        "colab": {
          "base_uri": "https://localhost:8080/"
        },
        "id": "Y93gSD337wM8",
        "outputId": "400ef0af-bb12-4eca-898f-18722193e7aa"
      },
      "execution_count": null,
      "outputs": [
        {
          "output_type": "stream",
          "name": "stdout",
          "text": [
            "Normal computation: 8.20159912109375e-05 seconds\n"
          ]
        }
      ]
    },
    {
      "cell_type": "code",
      "source": [
        "start = time.time()\n",
        "with concurrent.futures.ProcessPoolExecutor() as executor:\n",
        "    executor.map(face_detection, images)    \n",
        "end = time.time()\n",
        "print(\"Multiprocessing computation: {} sec\".format(end - start))"
      ],
      "metadata": {
        "colab": {
          "base_uri": "https://localhost:8080/"
        },
        "id": "H6imfjQ1764n",
        "outputId": "db225fde-6e33-487a-a926-2ccad0e117c3"
      },
      "execution_count": null,
      "outputs": [
        {
          "output_type": "stream",
          "name": "stdout",
          "text": [
            "Multiprocessing computation: 0.002071380615234375 sec\n"
          ]
        }
      ]
    },
    {
      "cell_type": "code",
      "source": [
        "start = time.time()\n",
        "with concurrent.futures.ThreadPoolExecutor() as executor:\n",
        "    executor.map(face_detection, images)  \n",
        "end = time.time()\n",
        "print(\"Multithreading computation: {} sec\".format(end - start))"
      ],
      "metadata": {
        "colab": {
          "base_uri": "https://localhost:8080/"
        },
        "id": "mV9s-XcH76_o",
        "outputId": "53d43d73-c4b6-45ac-c99b-f4910c5885a9"
      },
      "execution_count": null,
      "outputs": [
        {
          "output_type": "stream",
          "name": "stdout",
          "text": [
            "Multithreading computation: 0.00023293495178222656 sec\n"
          ]
        }
      ]
    },
    {
      "cell_type": "markdown",
      "source": [
        "Implementing NLP using Multithreading & Multiprocessing"
      ],
      "metadata": {
        "id": "zDW-BScB81L_"
      }
    },
    {
      "cell_type": "code",
      "source": [
        "def stemSentence(sentence, stemmer):\n",
        "    token_words=word_tokenize(sentence)\n",
        "    stem_sentence=[]\n",
        "    for word in token_words:\n",
        "        stem_sentence.append(stemmer.stem(word))\n",
        "        stem_sentence.append(\" \")\n",
        "    return \"\".join(stem_sentence)\n",
        "def xml_process(xml_path):\n",
        "    \n",
        "    try:\n",
        "        root = ET.parse(xml_path).getroot()\n",
        "        posts = []\n",
        "        file_name = os.path.basename(xml_path)[:-4] + \".txt\"\n",
        "        \n",
        "        for i in root.iter(\"post\"):\n",
        "            posts.append(i.text)\n",
        "        porter = PorterStemmer()    \n",
        "        sentences = map(lambda x: stemSentence(x, porter), posts)\n",
        "        \n",
        "        for i in sentences:\n",
        "            with open(\"./Datasets/blog_processed/\" + file_name, \"a+\") as file:\n",
        "                file.write(i)\n",
        "                file.write(\"\\n\")\n",
        "    except:\n",
        "        pass"
      ],
      "metadata": {
        "id": "ECRxlWaV81m-"
      },
      "execution_count": null,
      "outputs": []
    },
    {
      "cell_type": "code",
      "source": [
        "xml_files = glob.glob(\"./Datasets/blog_xml/*.xml\")\n",
        "start = time.time()\n",
        "for i in xml_files:\n",
        "    xml_process(i)\n",
        "end = time.time()\n",
        "print(\"Normal computation: {} seconds\".format(end - start))"
      ],
      "metadata": {
        "colab": {
          "base_uri": "https://localhost:8080/"
        },
        "id": "FPxP5Jvo86VW",
        "outputId": "7c79a410-75b7-4438-9085-b21673d9bf8b"
      },
      "execution_count": null,
      "outputs": [
        {
          "output_type": "stream",
          "name": "stdout",
          "text": [
            "Normal computation: 7.295608520507812e-05 seconds\n"
          ]
        }
      ]
    },
    {
      "cell_type": "code",
      "source": [
        "start = time.time()\n",
        "with concurrent.futures.ProcessPoolExecutor() as executor:\n",
        "    executor.map(xml_process, xml_files)    \n",
        "end = time.time()\n",
        "print(\"Multiprocessing computation: {} sec\".format(end - start))"
      ],
      "metadata": {
        "colab": {
          "base_uri": "https://localhost:8080/"
        },
        "id": "Fuqt69I-86b0",
        "outputId": "aac53de3-9a7e-4fd7-ea4a-0044b05ab98a"
      },
      "execution_count": null,
      "outputs": [
        {
          "output_type": "stream",
          "name": "stdout",
          "text": [
            "Multiprocessing computation: 0.0013365745544433594 sec\n"
          ]
        }
      ]
    },
    {
      "cell_type": "code",
      "source": [
        "start = time.time()\n",
        "with concurrent.futures.ThreadPoolExecutor() as executor:\n",
        "    executor.map(xml_process, xml_files)  \n",
        "end = time.time()\n",
        "print(\"Multithreading computation: {} sec\".format(end - start))"
      ],
      "metadata": {
        "colab": {
          "base_uri": "https://localhost:8080/"
        },
        "id": "ZgrLwYsr86ih",
        "outputId": "9f50c357-8073-42cc-9e7d-c41567349c02"
      },
      "execution_count": null,
      "outputs": [
        {
          "output_type": "stream",
          "name": "stdout",
          "text": [
            "Multithreading computation: 0.00017404556274414062 sec\n"
          ]
        }
      ]
    }
  ]
}